{
  "nbformat": 4,
  "nbformat_minor": 0,
  "metadata": {
    "colab": {
      "provenance": [],
      "machine_shape": "hm"
    },
    "kernelspec": {
      "name": "python3",
      "display_name": "Python 3"
    },
    "language_info": {
      "name": "python"
    },
    "gpuClass": "premium",
    "accelerator": "GPU"
  },
  "cells": [
    {
      "cell_type": "code",
      "execution_count": null,
      "metadata": {
        "colab": {
          "base_uri": "https://localhost:8080/"
        },
        "id": "QkCZ7t5xq8YH",
        "outputId": "3463f8d1-6d13-488e-aa72-cc67284c3c41"
      },
      "outputs": [
        {
          "output_type": "stream",
          "name": "stdout",
          "text": [
            "Mounted at /content/drive\n"
          ]
        }
      ],
      "source": [
        "from google.colab import drive\n",
        "drive.mount('/content/drive')"
      ]
    },
    {
      "cell_type": "code",
      "source": [
        "import os\n",
        "import sys\n",
        "py_file_location = \"/content/drive/MyDrive/GNN_Seg/\"\n",
        "sys.path.append(os.path.abspath(py_file_location))"
      ],
      "metadata": {
        "id": "m0FnEItTzFMw"
      },
      "execution_count": null,
      "outputs": []
    },
    {
      "cell_type": "code",
      "source": [
        "pip install dgl"
      ],
      "metadata": {
        "colab": {
          "base_uri": "https://localhost:8080/",
          "height": 523
        },
        "id": "HbvRDl9S5b9F",
        "outputId": "961992ab-0275-4a1c-d892-ed28e3312c07"
      },
      "execution_count": null,
      "outputs": [
        {
          "output_type": "stream",
          "name": "stdout",
          "text": [
            "Looking in indexes: https://pypi.org/simple, https://us-python.pkg.dev/colab-wheels/public/simple/\n",
            "Collecting dgl\n",
            "  Downloading dgl-0.9.1-cp37-cp37m-manylinux1_x86_64.whl (4.9 MB)\n",
            "\u001b[K     |████████████████████████████████| 4.9 MB 4.7 MB/s \n",
            "\u001b[?25hRequirement already satisfied: requests>=2.19.0 in /usr/local/lib/python3.7/dist-packages (from dgl) (2.23.0)\n",
            "Requirement already satisfied: numpy>=1.14.0 in /usr/local/lib/python3.7/dist-packages (from dgl) (1.21.6)\n",
            "Requirement already satisfied: tqdm in /usr/local/lib/python3.7/dist-packages (from dgl) (4.64.1)\n",
            "Requirement already satisfied: scipy>=1.1.0 in /usr/local/lib/python3.7/dist-packages (from dgl) (1.7.3)\n",
            "Requirement already satisfied: networkx>=2.1 in /usr/local/lib/python3.7/dist-packages (from dgl) (2.6.3)\n",
            "Collecting psutil>=5.8.0\n",
            "  Downloading psutil-5.9.4-cp36-abi3-manylinux_2_12_x86_64.manylinux2010_x86_64.manylinux_2_17_x86_64.manylinux2014_x86_64.whl (280 kB)\n",
            "\u001b[K     |████████████████████████████████| 280 kB 76.8 MB/s \n",
            "\u001b[?25hRequirement already satisfied: chardet<4,>=3.0.2 in /usr/local/lib/python3.7/dist-packages (from requests>=2.19.0->dgl) (3.0.4)\n",
            "Requirement already satisfied: urllib3!=1.25.0,!=1.25.1,<1.26,>=1.21.1 in /usr/local/lib/python3.7/dist-packages (from requests>=2.19.0->dgl) (1.24.3)\n",
            "Requirement already satisfied: idna<3,>=2.5 in /usr/local/lib/python3.7/dist-packages (from requests>=2.19.0->dgl) (2.10)\n",
            "Requirement already satisfied: certifi>=2017.4.17 in /usr/local/lib/python3.7/dist-packages (from requests>=2.19.0->dgl) (2022.9.24)\n",
            "Installing collected packages: psutil, dgl\n",
            "  Attempting uninstall: psutil\n",
            "    Found existing installation: psutil 5.4.8\n",
            "    Uninstalling psutil-5.4.8:\n",
            "      Successfully uninstalled psutil-5.4.8\n",
            "Successfully installed dgl-0.9.1 psutil-5.9.4\n"
          ]
        },
        {
          "output_type": "display_data",
          "data": {
            "application/vnd.colab-display-data+json": {
              "pip_warning": {
                "packages": [
                  "psutil"
                ]
              }
            }
          },
          "metadata": {}
        }
      ]
    },
    {
      "cell_type": "code",
      "source": [
        "pip install torchviz"
      ],
      "metadata": {
        "colab": {
          "base_uri": "https://localhost:8080/"
        },
        "id": "UMWGhe5q8CXi",
        "outputId": "fd5e57e5-64dd-40fe-c590-959323c0d9de"
      },
      "execution_count": null,
      "outputs": [
        {
          "output_type": "stream",
          "name": "stdout",
          "text": [
            "Looking in indexes: https://pypi.org/simple, https://us-python.pkg.dev/colab-wheels/public/simple/\n",
            "Collecting torchviz\n",
            "  Downloading torchviz-0.0.2.tar.gz (4.9 kB)\n",
            "Requirement already satisfied: torch in /usr/local/lib/python3.7/dist-packages (from torchviz) (1.12.1+cu113)\n",
            "Requirement already satisfied: graphviz in /usr/local/lib/python3.7/dist-packages (from torchviz) (0.10.1)\n",
            "Requirement already satisfied: typing-extensions in /usr/local/lib/python3.7/dist-packages (from torch->torchviz) (4.1.1)\n",
            "Building wheels for collected packages: torchviz\n",
            "  Building wheel for torchviz (setup.py) ... \u001b[?25l\u001b[?25hdone\n",
            "  Created wheel for torchviz: filename=torchviz-0.0.2-py3-none-any.whl size=4149 sha256=8d3d29e66e03435cacf778fd99c17054ae270e78ab8806171b00dd84b9c92a49\n",
            "  Stored in directory: /root/.cache/pip/wheels/04/38/f5/dc4f85c3909051823df49901e72015d2d750bd26b086480ec2\n",
            "Successfully built torchviz\n",
            "Installing collected packages: torchviz\n",
            "Successfully installed torchviz-0.0.2\n"
          ]
        }
      ]
    },
    {
      "cell_type": "code",
      "source": [
        "import argparse\n",
        "from numpy import r_, around\n",
        "from torch.utils.data import Subset\n",
        "import torch\n",
        "from utils.training_helpers import *\n",
        "from utils.hyperparam_helpers import populate_hardcoded_hyperparameters, generate_random_hyperparameters\n",
        "from data_processing.data_loader import ImageGraphDataset\n",
        "from model.gnn_model import GNN\n",
        "from model.networks import init_graph_net\n",
        "\n",
        "device = torch.device('cuda' if torch.cuda.is_available() else 'cpu')\n",
        "from utils.hyperparam_helpers import EvalParamSet,DEFAULT_BACKGROUND_NODE_LOGITS,populate_hardcoded_hyperparameters\n",
        "import Filepaths"
      ],
      "metadata": {
        "id": "Rvk3HPNyrDNo",
        "colab": {
          "base_uri": "https://localhost:8080/"
        },
        "outputId": "d99821be-db0a-4f9f-e8ab-dc42c6843097"
      },
      "execution_count": null,
      "outputs": [
        {
          "output_type": "stream",
          "name": "stderr",
          "text": [
            "DGL backend not selected or invalid.  Assuming PyTorch for now.\n"
          ]
        },
        {
          "output_type": "stream",
          "name": "stdout",
          "text": [
            "Setting the default backend to \"pytorch\". You can change it in the ~/.dgl/config.json file or export the DGLBACKEND environment variable.  Valid options are: pytorch, mxnet, tensorflow (all lowercase)\n"
          ]
        }
      ]
    },
    {
      "cell_type": "code",
      "source": [
        "import torch\n",
        "from torch import nn\n",
        "%pip install -U git+https://github.com/szagoruyko/pytorchviz.git@master\n",
        "from torchviz import make_dot, make_dot_from_trace"
      ],
      "metadata": {
        "colab": {
          "base_uri": "https://localhost:8080/"
        },
        "id": "tatGJ9be9KOu",
        "outputId": "2b6619a1-dcae-4442-bf6b-4b4a664d2556"
      },
      "execution_count": null,
      "outputs": [
        {
          "output_type": "stream",
          "name": "stdout",
          "text": [
            "Looking in indexes: https://pypi.org/simple, https://us-python.pkg.dev/colab-wheels/public/simple/\n",
            "Collecting git+https://github.com/szagoruyko/pytorchviz.git@master\n",
            "  Cloning https://github.com/szagoruyko/pytorchviz.git (to revision master) to /tmp/pip-req-build-n1rytmgy\n",
            "  Running command git clone -q https://github.com/szagoruyko/pytorchviz.git /tmp/pip-req-build-n1rytmgy\n",
            "Requirement already satisfied: torch in /usr/local/lib/python3.7/dist-packages (from torchviz==0.0.2) (1.12.1+cu113)\n",
            "Requirement already satisfied: graphviz in /usr/local/lib/python3.7/dist-packages (from torchviz==0.0.2) (0.10.1)\n",
            "Requirement already satisfied: typing-extensions in /usr/local/lib/python3.7/dist-packages (from torch->torchviz==0.0.2) (4.1.1)\n"
          ]
        }
      ]
    },
    {
      "cell_type": "code",
      "source": [
        "import torch\n",
        "from torchsummary import summary\n",
        "from torchvision import models\n",
        "# Model class must be defined somewhere\n",
        "att_heads = [4, 5, 5, 5, 3, 5, 5, 3]\n",
        "residuals = [False, False, False, False, True, False, False, False]\n",
        "gnn_hp = EvalParamSet(in_feats=20,out_classes=4,layer_sizes=[256]*8,gat_heads=att_heads,gat_residuals=residuals)\n",
        "net = init_graph_net('GAT',gnn_hp)\n",
        "\n",
        "net.load_state_dict(torch.load('/content/drive/MyDrive/GAT_gnn_f1.pt',map_location=device))\n",
        "print(net)"
      ],
      "metadata": {
        "colab": {
          "base_uri": "https://localhost:8080/"
        },
        "id": "wHyPGBm2sG8t",
        "outputId": "abe78782-e80a-421e-ba3e-9a12255d6da4"
      },
      "execution_count": null,
      "outputs": [
        {
          "output_type": "stream",
          "name": "stdout",
          "text": [
            "GAT(\n",
            "  (layers): ModuleList(\n",
            "    (0): GATConv(\n",
            "      (fc): Linear(in_features=20, out_features=1024, bias=False)\n",
            "      (feat_drop): Dropout(p=0, inplace=False)\n",
            "      (attn_drop): Dropout(p=0, inplace=False)\n",
            "      (leaky_relu): LeakyReLU(negative_slope=0.2)\n",
            "    )\n",
            "    (1): GATConv(\n",
            "      (fc): Linear(in_features=1024, out_features=1280, bias=False)\n",
            "      (feat_drop): Dropout(p=0, inplace=False)\n",
            "      (attn_drop): Dropout(p=0, inplace=False)\n",
            "      (leaky_relu): LeakyReLU(negative_slope=0.2)\n",
            "    )\n",
            "    (2): GATConv(\n",
            "      (fc): Linear(in_features=1280, out_features=1280, bias=False)\n",
            "      (feat_drop): Dropout(p=0, inplace=False)\n",
            "      (attn_drop): Dropout(p=0, inplace=False)\n",
            "      (leaky_relu): LeakyReLU(negative_slope=0.2)\n",
            "    )\n",
            "    (3): GATConv(\n",
            "      (fc): Linear(in_features=1280, out_features=1280, bias=False)\n",
            "      (feat_drop): Dropout(p=0, inplace=False)\n",
            "      (attn_drop): Dropout(p=0, inplace=False)\n",
            "      (leaky_relu): LeakyReLU(negative_slope=0.2)\n",
            "    )\n",
            "    (4): GATConv(\n",
            "      (fc): Linear(in_features=1280, out_features=768, bias=False)\n",
            "      (feat_drop): Dropout(p=0, inplace=False)\n",
            "      (attn_drop): Dropout(p=0, inplace=False)\n",
            "      (leaky_relu): LeakyReLU(negative_slope=0.2)\n",
            "      (res_fc): Linear(in_features=1280, out_features=768, bias=False)\n",
            "    )\n",
            "    (5): GATConv(\n",
            "      (fc): Linear(in_features=768, out_features=1280, bias=False)\n",
            "      (feat_drop): Dropout(p=0, inplace=False)\n",
            "      (attn_drop): Dropout(p=0, inplace=False)\n",
            "      (leaky_relu): LeakyReLU(negative_slope=0.2)\n",
            "    )\n",
            "    (6): GATConv(\n",
            "      (fc): Linear(in_features=1280, out_features=1280, bias=False)\n",
            "      (feat_drop): Dropout(p=0, inplace=False)\n",
            "      (attn_drop): Dropout(p=0, inplace=False)\n",
            "      (leaky_relu): LeakyReLU(negative_slope=0.2)\n",
            "    )\n",
            "    (7): GATConv(\n",
            "      (fc): Linear(in_features=1280, out_features=768, bias=False)\n",
            "      (feat_drop): Dropout(p=0, inplace=False)\n",
            "      (attn_drop): Dropout(p=0, inplace=False)\n",
            "      (leaky_relu): LeakyReLU(negative_slope=0.2)\n",
            "    )\n",
            "    (8): GATConv(\n",
            "      (fc): Linear(in_features=768, out_features=4, bias=False)\n",
            "      (feat_drop): Dropout(p=0, inplace=False)\n",
            "      (attn_drop): Dropout(p=0, inplace=False)\n",
            "      (leaky_relu): LeakyReLU(negative_slope=0.2)\n",
            "    )\n",
            "  )\n",
            ")\n"
          ]
        }
      ]
    },
    {
      "cell_type": "code",
      "source": [
        "from prettytable import PrettyTable\n",
        "def count_parameters(net):\n",
        "    table = PrettyTable([\"Modules\", \"Parameters\"])\n",
        "    total_params = 0\n",
        "    for name, parameter in net.named_parameters():\n",
        "        if not parameter.requires_grad: continue\n",
        "        params = parameter.numel()\n",
        "        table.add_row([name, params])\n",
        "        total_params+=params\n",
        "    print(table)\n",
        "    print(f\"Total Trainable Params: {total_params}\")\n",
        "    return total_params"
      ],
      "metadata": {
        "id": "lK26oiFd2eAF"
      },
      "execution_count": null,
      "outputs": []
    },
    {
      "cell_type": "code",
      "source": [
        "count_parameters(net)"
      ],
      "metadata": {
        "colab": {
          "base_uri": "https://localhost:8080/"
        },
        "id": "rqi5aFco6bsa",
        "outputId": "f306b6f9-36de-4650-d79b-e8a1f09c187b"
      },
      "execution_count": null,
      "outputs": [
        {
          "output_type": "stream",
          "name": "stdout",
          "text": [
            "+------------------------+------------+\n",
            "|        Modules         | Parameters |\n",
            "+------------------------+------------+\n",
            "|    layers.0.attn_l     |    1024    |\n",
            "|    layers.0.attn_r     |    1024    |\n",
            "|     layers.0.bias      |    1024    |\n",
            "|   layers.0.fc.weight   |   20480    |\n",
            "|    layers.1.attn_l     |    1280    |\n",
            "|    layers.1.attn_r     |    1280    |\n",
            "|     layers.1.bias      |    1280    |\n",
            "|   layers.1.fc.weight   |  1310720   |\n",
            "|    layers.2.attn_l     |    1280    |\n",
            "|    layers.2.attn_r     |    1280    |\n",
            "|     layers.2.bias      |    1280    |\n",
            "|   layers.2.fc.weight   |  1638400   |\n",
            "|    layers.3.attn_l     |    1280    |\n",
            "|    layers.3.attn_r     |    1280    |\n",
            "|     layers.3.bias      |    1280    |\n",
            "|   layers.3.fc.weight   |  1638400   |\n",
            "|    layers.4.attn_l     |    768     |\n",
            "|    layers.4.attn_r     |    768     |\n",
            "|     layers.4.bias      |    768     |\n",
            "|   layers.4.fc.weight   |   983040   |\n",
            "| layers.4.res_fc.weight |   983040   |\n",
            "|    layers.5.attn_l     |    1280    |\n",
            "|    layers.5.attn_r     |    1280    |\n",
            "|     layers.5.bias      |    1280    |\n",
            "|   layers.5.fc.weight   |   983040   |\n",
            "|    layers.6.attn_l     |    1280    |\n",
            "|    layers.6.attn_r     |    1280    |\n",
            "|     layers.6.bias      |    1280    |\n",
            "|   layers.6.fc.weight   |  1638400   |\n",
            "|    layers.7.attn_l     |    768     |\n",
            "|    layers.7.attn_r     |    768     |\n",
            "|     layers.7.bias      |    768     |\n",
            "|   layers.7.fc.weight   |   983040   |\n",
            "|    layers.8.attn_l     |     4      |\n",
            "|    layers.8.attn_r     |     4      |\n",
            "|     layers.8.bias      |     4      |\n",
            "|   layers.8.fc.weight   |    3072    |\n",
            "+------------------------+------------+\n",
            "Total Trainable Params: 10208524\n"
          ]
        },
        {
          "output_type": "execute_result",
          "data": {
            "text/plain": [
              "10208524"
            ]
          },
          "metadata": {},
          "execution_count": 9
        }
      ]
    },
    {
      "cell_type": "code",
      "source": [
        "from dgl.nn.pytorch import GATConv\n",
        "\n"
      ],
      "metadata": {
        "id": "dN-uAZ1U9Ubf"
      },
      "execution_count": null,
      "outputs": []
    }
  ]
}